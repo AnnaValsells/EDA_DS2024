{
 "cells": [
  {
   "cell_type": "code",
   "execution_count": null,
   "metadata": {},
   "outputs": [],
   "source": [
    "'''\n",
    "\n",
    "Análisis de otros factores internos: ¿EL SEXO DEL ANIMAL INFLUYE?\n",
    "\n",
    "'''"
   ]
  },
  {
   "cell_type": "code",
   "execution_count": 2,
   "metadata": {},
   "outputs": [],
   "source": [
    "import matplotlib.pyplot as plt\n",
    "import numpy as np\n",
    "import pandas as pd\n",
    "import seaborn as sns\n",
    "sns.set(color_codes=True)\n",
    "sns.set_style(\"white\")"
   ]
  },
  {
   "cell_type": "code",
   "execution_count": 3,
   "metadata": {},
   "outputs": [],
   "source": [
    "df_agility = pd.read_csv(\"./data/6_DATA_AGILITY.csv\")"
   ]
  },
  {
   "cell_type": "code",
   "execution_count": 4,
   "metadata": {},
   "outputs": [
    {
     "data": {
      "text/html": [
       "<div>\n",
       "<style scoped>\n",
       "    .dataframe tbody tr th:only-of-type {\n",
       "        vertical-align: middle;\n",
       "    }\n",
       "\n",
       "    .dataframe tbody tr th {\n",
       "        vertical-align: top;\n",
       "    }\n",
       "\n",
       "    .dataframe thead th {\n",
       "        text-align: right;\n",
       "    }\n",
       "</style>\n",
       "<table border=\"1\" class=\"dataframe\">\n",
       "  <thead>\n",
       "    <tr style=\"text-align: right;\">\n",
       "      <th></th>\n",
       "      <th>indice</th>\n",
       "      <th>Index_data</th>\n",
       "      <th>Fecha</th>\n",
       "      <th>License</th>\n",
       "      <th>Breed</th>\n",
       "      <th>Gender</th>\n",
       "      <th>Hight_cm</th>\n",
       "      <th>Classification</th>\n",
       "      <th>Speed m/s</th>\n",
       "      <th>Time (s)</th>\n",
       "      <th>Faults</th>\n",
       "      <th>Refusals</th>\n",
       "      <th>Competition</th>\n",
       "      <th>Location</th>\n",
       "      <th>Roof</th>\n",
       "      <th>Floor</th>\n",
       "      <th>Eliminados</th>\n",
       "      <th>Fecha_Competición</th>\n",
       "      <th>Pista</th>\n",
       "    </tr>\n",
       "  </thead>\n",
       "  <tbody>\n",
       "    <tr>\n",
       "      <th>0</th>\n",
       "      <td>0</td>\n",
       "      <td>0</td>\n",
       "      <td>Sabado 6 abril</td>\n",
       "      <td>2023280386PS88000015</td>\n",
       "      <td>Continental Toy Spaniel</td>\n",
       "      <td>Male</td>\n",
       "      <td>24.5</td>\n",
       "      <td>-</td>\n",
       "      <td>0.00</td>\n",
       "      <td>0.00</td>\n",
       "      <td>100</td>\n",
       "      <td>100</td>\n",
       "      <td>Pataplán 6 y 7 Abril - Liga CASTILLA LA MANCHA</td>\n",
       "      <td>Cuenca / Spain</td>\n",
       "      <td>Outdoor</td>\n",
       "      <td>Sand</td>\n",
       "      <td>ELIM</td>\n",
       "      <td>Apr 6 - 7</td>\n",
       "      <td>Jumping</td>\n",
       "    </tr>\n",
       "    <tr>\n",
       "      <th>1</th>\n",
       "      <td>1</td>\n",
       "      <td>0</td>\n",
       "      <td>Sabado 6 abril</td>\n",
       "      <td>2022160138RS70000004</td>\n",
       "      <td>Shetland Sheepdog</td>\n",
       "      <td>Female</td>\n",
       "      <td>31.0</td>\n",
       "      <td>1º</td>\n",
       "      <td>3.59</td>\n",
       "      <td>42.03</td>\n",
       "      <td>1</td>\n",
       "      <td>1</td>\n",
       "      <td>Pataplán 6 y 7 Abril - Liga CASTILLA LA MANCHA</td>\n",
       "      <td>Cuenca / Spain</td>\n",
       "      <td>Outdoor</td>\n",
       "      <td>Sand</td>\n",
       "      <td>V_GOOD</td>\n",
       "      <td>Apr 6 - 7</td>\n",
       "      <td>Jumping</td>\n",
       "    </tr>\n",
       "    <tr>\n",
       "      <th>2</th>\n",
       "      <td>2</td>\n",
       "      <td>0</td>\n",
       "      <td>Sabado 6 abril</td>\n",
       "      <td>2022160138RS70000004</td>\n",
       "      <td>Shetland Sheepdog</td>\n",
       "      <td>Female</td>\n",
       "      <td>31.0</td>\n",
       "      <td>-</td>\n",
       "      <td>0.00</td>\n",
       "      <td>0.00</td>\n",
       "      <td>100</td>\n",
       "      <td>100</td>\n",
       "      <td>Pataplán 6 y 7 Abril - Liga CASTILLA LA MANCHA</td>\n",
       "      <td>Cuenca / Spain</td>\n",
       "      <td>Outdoor</td>\n",
       "      <td>Sand</td>\n",
       "      <td>ELIM</td>\n",
       "      <td>Apr 6 - 7</td>\n",
       "      <td>Agility</td>\n",
       "    </tr>\n",
       "    <tr>\n",
       "      <th>3</th>\n",
       "      <td>3</td>\n",
       "      <td>0</td>\n",
       "      <td>Sabado 6 abril</td>\n",
       "      <td>2018160135RS70000001</td>\n",
       "      <td>Border Collie</td>\n",
       "      <td>Female</td>\n",
       "      <td>50.0</td>\n",
       "      <td>-</td>\n",
       "      <td>0.00</td>\n",
       "      <td>0.00</td>\n",
       "      <td>100</td>\n",
       "      <td>100</td>\n",
       "      <td>Pataplán 6 y 7 Abril - Liga CASTILLA LA MANCHA</td>\n",
       "      <td>Cuenca / Spain</td>\n",
       "      <td>Outdoor</td>\n",
       "      <td>Sand</td>\n",
       "      <td>ELIM</td>\n",
       "      <td>Apr 6 - 7</td>\n",
       "      <td>Jumping</td>\n",
       "    </tr>\n",
       "    <tr>\n",
       "      <th>4</th>\n",
       "      <td>4</td>\n",
       "      <td>0</td>\n",
       "      <td>Sabado 6 abril</td>\n",
       "      <td>2018160135RS70000001</td>\n",
       "      <td>Border Collie</td>\n",
       "      <td>Female</td>\n",
       "      <td>50.0</td>\n",
       "      <td>1º</td>\n",
       "      <td>3.32</td>\n",
       "      <td>59.59</td>\n",
       "      <td>0</td>\n",
       "      <td>0</td>\n",
       "      <td>Pataplán 6 y 7 Abril - Liga CASTILLA LA MANCHA</td>\n",
       "      <td>Cuenca / Spain</td>\n",
       "      <td>Outdoor</td>\n",
       "      <td>Sand</td>\n",
       "      <td>EXC_0</td>\n",
       "      <td>Apr 6 - 7</td>\n",
       "      <td>Agility</td>\n",
       "    </tr>\n",
       "  </tbody>\n",
       "</table>\n",
       "</div>"
      ],
      "text/plain": [
       "   indice  Index_data           Fecha               License  \\\n",
       "0       0           0  Sabado 6 abril  2023280386PS88000015   \n",
       "1       1           0  Sabado 6 abril  2022160138RS70000004   \n",
       "2       2           0  Sabado 6 abril  2022160138RS70000004   \n",
       "3       3           0  Sabado 6 abril  2018160135RS70000001   \n",
       "4       4           0  Sabado 6 abril  2018160135RS70000001   \n",
       "\n",
       "                     Breed  Gender  Hight_cm Classification  Speed m/s  \\\n",
       "0  Continental Toy Spaniel    Male      24.5              -       0.00   \n",
       "1        Shetland Sheepdog  Female      31.0             1º       3.59   \n",
       "2        Shetland Sheepdog  Female      31.0              -       0.00   \n",
       "3            Border Collie  Female      50.0              -       0.00   \n",
       "4            Border Collie  Female      50.0             1º       3.32   \n",
       "\n",
       "   Time (s)  Faults  Refusals                                     Competition  \\\n",
       "0      0.00     100       100  Pataplán 6 y 7 Abril - Liga CASTILLA LA MANCHA   \n",
       "1     42.03       1         1  Pataplán 6 y 7 Abril - Liga CASTILLA LA MANCHA   \n",
       "2      0.00     100       100  Pataplán 6 y 7 Abril - Liga CASTILLA LA MANCHA   \n",
       "3      0.00     100       100  Pataplán 6 y 7 Abril - Liga CASTILLA LA MANCHA   \n",
       "4     59.59       0         0  Pataplán 6 y 7 Abril - Liga CASTILLA LA MANCHA   \n",
       "\n",
       "         Location     Roof Floor Eliminados Fecha_Competición    Pista  \n",
       "0  Cuenca / Spain  Outdoor  Sand       ELIM         Apr 6 - 7  Jumping  \n",
       "1  Cuenca / Spain  Outdoor  Sand     V_GOOD         Apr 6 - 7  Jumping  \n",
       "2  Cuenca / Spain  Outdoor  Sand       ELIM         Apr 6 - 7  Agility  \n",
       "3  Cuenca / Spain  Outdoor  Sand       ELIM         Apr 6 - 7  Jumping  \n",
       "4  Cuenca / Spain  Outdoor  Sand      EXC_0         Apr 6 - 7  Agility  "
      ]
     },
     "execution_count": 4,
     "metadata": {},
     "output_type": "execute_result"
    }
   ],
   "source": [
    "df_agility.head()"
   ]
  },
  {
   "cell_type": "code",
   "execution_count": 5,
   "metadata": {},
   "outputs": [],
   "source": [
    "#ANALISIS factores internos: Gender / Hight_cm / speed / Time / Faltas / Refus / Pista"
   ]
  },
  {
   "cell_type": "code",
   "execution_count": 6,
   "metadata": {},
   "outputs": [
    {
     "data": {
      "text/plain": [
       "Gender  Eliminados\n",
       "Female  EXC_0         7741\n",
       "        ELIM          5727\n",
       "        EXC           4031\n",
       "        V_GOOD        2426\n",
       "        GOOD           424\n",
       "        NP             224\n",
       "Male    EXC_0         4231\n",
       "        ELIM          3330\n",
       "        EXC           2441\n",
       "        V_GOOD        1629\n",
       "        GOOD           276\n",
       "        NP             131\n",
       "Name: count, dtype: int64"
      ]
     },
     "execution_count": 6,
     "metadata": {},
     "output_type": "execute_result"
    }
   ],
   "source": [
    "elim_x_gender = df_agility.groupby(\"Gender\")[\"Eliminados\"].value_counts()\n",
    "elim_x_gender"
   ]
  },
  {
   "cell_type": "code",
   "execution_count": 7,
   "metadata": {},
   "outputs": [
    {
     "data": {
      "text/html": [
       "<div>\n",
       "<style scoped>\n",
       "    .dataframe tbody tr th:only-of-type {\n",
       "        vertical-align: middle;\n",
       "    }\n",
       "\n",
       "    .dataframe tbody tr th {\n",
       "        vertical-align: top;\n",
       "    }\n",
       "\n",
       "    .dataframe thead th {\n",
       "        text-align: right;\n",
       "    }\n",
       "</style>\n",
       "<table border=\"1\" class=\"dataframe\">\n",
       "  <thead>\n",
       "    <tr style=\"text-align: right;\">\n",
       "      <th></th>\n",
       "      <th>Gender</th>\n",
       "      <th>Qualificación</th>\n",
       "      <th>Número_perros</th>\n",
       "    </tr>\n",
       "  </thead>\n",
       "  <tbody>\n",
       "    <tr>\n",
       "      <th>0</th>\n",
       "      <td>Female</td>\n",
       "      <td>EXC_0</td>\n",
       "      <td>7741</td>\n",
       "    </tr>\n",
       "    <tr>\n",
       "      <th>1</th>\n",
       "      <td>Female</td>\n",
       "      <td>ELIM</td>\n",
       "      <td>5727</td>\n",
       "    </tr>\n",
       "    <tr>\n",
       "      <th>2</th>\n",
       "      <td>Male</td>\n",
       "      <td>EXC_0</td>\n",
       "      <td>4231</td>\n",
       "    </tr>\n",
       "    <tr>\n",
       "      <th>3</th>\n",
       "      <td>Male</td>\n",
       "      <td>ELIM</td>\n",
       "      <td>3330</td>\n",
       "    </tr>\n",
       "  </tbody>\n",
       "</table>\n",
       "</div>"
      ],
      "text/plain": [
       "   Gender Qualificación  Número_perros\n",
       "0  Female         EXC_0           7741\n",
       "1  Female          ELIM           5727\n",
       "2    Male         EXC_0           4231\n",
       "3    Male          ELIM           3330"
      ]
     },
     "execution_count": 7,
     "metadata": {},
     "output_type": "execute_result"
    }
   ],
   "source": [
    "dic_gender = {\n",
    "    \"Gender\":[],\n",
    "    \"Qualificación\":[],\n",
    "    \"Número_perros\":[]\n",
    "}\n",
    "\n",
    "for i,a in elim_x_gender.items():\n",
    "    #print(i,a)\n",
    "    if i == ('Female', 'EXC_0'):\n",
    "        dic_gender[\"Gender\"].append(\"Female\")\n",
    "        dic_gender[\"Qualificación\"].append(\"EXC_0\")\n",
    "        dic_gender[\"Número_perros\"].append(a)\n",
    "    if i == ('Female', 'ELIM'):\n",
    "        dic_gender[\"Gender\"].append(\"Female\")\n",
    "        dic_gender[\"Qualificación\"].append(\"ELIM\")\n",
    "        dic_gender[\"Número_perros\"].append(a)\n",
    "    if i == ('Male', 'EXC_0'):\n",
    "        dic_gender[\"Gender\"].append(\"Male\")\n",
    "        dic_gender[\"Qualificación\"].append(\"EXC_0\")\n",
    "        dic_gender[\"Número_perros\"].append(a)\n",
    "    if i == ('Male', 'ELIM'):\n",
    "        dic_gender[\"Gender\"].append(\"Male\")\n",
    "        dic_gender[\"Qualificación\"].append(\"ELIM\")\n",
    "        dic_gender[\"Número_perros\"].append(a)\n",
    "\n",
    "df_gender = pd.DataFrame(dic_gender)\n",
    "df_gender"
   ]
  },
  {
   "cell_type": "code",
   "execution_count": 8,
   "metadata": {},
   "outputs": [],
   "source": [
    "# estoy cansada.... creo que lo dejo por hoy :') no me salen ya mas bucles....\n",
    "\n",
    "a = round(7741 / 13468 * 100, 2)\n",
    "b = round(5727 / 13468 * 100, 2)\n",
    "c = round(4231 / 7561 * 100, 2)\n",
    "d = round(3330 / 7561 * 100, 2)\n",
    "\n",
    "e = round(7741 / 21029 * 100, 2)\n",
    "f = round(5727 / 21029 * 100, 2)\n",
    "g = round(4231 / 21029 * 100, 2)\n",
    "h = round(3330 / 21029 * 100, 2)\n",
    "\n",
    "list_relativo = [a, b, c, d]\n",
    "list_absoluto = [e, f, g, h]\n"
   ]
  },
  {
   "cell_type": "code",
   "execution_count": 9,
   "metadata": {},
   "outputs": [
    {
     "data": {
      "text/plain": [
       "Gender\n",
       "Female    13468\n",
       "Male       7561\n",
       "Name: Número_perros, dtype: int64"
      ]
     },
     "execution_count": 9,
     "metadata": {},
     "output_type": "execute_result"
    }
   ],
   "source": [
    "df_gender.groupby(\"Gender\")[\"Número_perros\"].sum()"
   ]
  },
  {
   "cell_type": "code",
   "execution_count": 10,
   "metadata": {},
   "outputs": [
    {
     "data": {
      "text/plain": [
       "21029"
      ]
     },
     "execution_count": 10,
     "metadata": {},
     "output_type": "execute_result"
    }
   ],
   "source": [
    "df_gender[\"Número_perros\"].sum()"
   ]
  },
  {
   "cell_type": "code",
   "execution_count": 11,
   "metadata": {},
   "outputs": [
    {
     "data": {
      "text/html": [
       "<div>\n",
       "<style scoped>\n",
       "    .dataframe tbody tr th:only-of-type {\n",
       "        vertical-align: middle;\n",
       "    }\n",
       "\n",
       "    .dataframe tbody tr th {\n",
       "        vertical-align: top;\n",
       "    }\n",
       "\n",
       "    .dataframe thead th {\n",
       "        text-align: right;\n",
       "    }\n",
       "</style>\n",
       "<table border=\"1\" class=\"dataframe\">\n",
       "  <thead>\n",
       "    <tr style=\"text-align: right;\">\n",
       "      <th></th>\n",
       "      <th>Gender</th>\n",
       "      <th>Qualificación</th>\n",
       "      <th>Número_perros</th>\n",
       "      <th>%relativo</th>\n",
       "      <th>%absoluto</th>\n",
       "    </tr>\n",
       "  </thead>\n",
       "  <tbody>\n",
       "    <tr>\n",
       "      <th>0</th>\n",
       "      <td>Female</td>\n",
       "      <td>EXC_0</td>\n",
       "      <td>7741</td>\n",
       "      <td>57.48</td>\n",
       "      <td>36.81</td>\n",
       "    </tr>\n",
       "    <tr>\n",
       "      <th>1</th>\n",
       "      <td>Female</td>\n",
       "      <td>ELIM</td>\n",
       "      <td>5727</td>\n",
       "      <td>42.52</td>\n",
       "      <td>27.23</td>\n",
       "    </tr>\n",
       "    <tr>\n",
       "      <th>2</th>\n",
       "      <td>Male</td>\n",
       "      <td>EXC_0</td>\n",
       "      <td>4231</td>\n",
       "      <td>55.96</td>\n",
       "      <td>20.12</td>\n",
       "    </tr>\n",
       "    <tr>\n",
       "      <th>3</th>\n",
       "      <td>Male</td>\n",
       "      <td>ELIM</td>\n",
       "      <td>3330</td>\n",
       "      <td>44.04</td>\n",
       "      <td>15.84</td>\n",
       "    </tr>\n",
       "  </tbody>\n",
       "</table>\n",
       "</div>"
      ],
      "text/plain": [
       "   Gender Qualificación  Número_perros  %relativo  %absoluto\n",
       "0  Female         EXC_0           7741      57.48      36.81\n",
       "1  Female          ELIM           5727      42.52      27.23\n",
       "2    Male         EXC_0           4231      55.96      20.12\n",
       "3    Male          ELIM           3330      44.04      15.84"
      ]
     },
     "execution_count": 11,
     "metadata": {},
     "output_type": "execute_result"
    }
   ],
   "source": [
    "df_gender[\"%relativo\"] = list_relativo\n",
    "df_gender[\"%absoluto\"] = list_absoluto\n",
    "df_gender"
   ]
  },
  {
   "cell_type": "code",
   "execution_count": 19,
   "metadata": {},
   "outputs": [
    {
     "data": {
      "image/png": "[encoded data removed]",
      "text/plain": [
       "<Figure size 1000x500 with 2 Axes>"
      ]
     },
     "metadata": {},
     "output_type": "display_data"
    }
   ],
   "source": [
    "sns.catplot(x=\"Gender\",\n",
    "            y = \"%relativo\",\n",
    "            col=\"Qualificación\",\n",
    "            hue = \"Gender\",\n",
    "            kind=\"bar\", \n",
    "            palette=\"viridis\",\n",
    "            data=df_gender);\n",
    "\n",
    "plt.savefig('./img/fig_por_sexo.png', bbox_inches='tight')"
   ]
  }
 ],
 "metadata": {
  "kernelspec": {
   "display_name": "Python 3",
   "language": "python",
   "name": "python3"
  },
  "language_info": {
   "codemirror_mode": {
    "name": "ipython",
    "version": 3
   },
   "file_extension": ".py",
   "mimetype": "text/x-python",
   "name": "python",
   "nbconvert_exporter": "python",
   "pygments_lexer": "ipython3",
   "version": "3.12.2"
  }
 },
 "nbformat": 4,
 "nbformat_minor": 2
}
