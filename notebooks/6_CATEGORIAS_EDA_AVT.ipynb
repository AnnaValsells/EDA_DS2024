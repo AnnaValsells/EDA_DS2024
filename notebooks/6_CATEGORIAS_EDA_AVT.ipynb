{
 "cells": [
  {
   "cell_type": "code",
   "execution_count": null,
   "metadata": {},
   "outputs": [],
   "source": [
    "'''\n",
    "En este notebook se crea la columna \"Categoria\"\n",
    "\n",
    "'''"
   ]
  },
  {
   "cell_type": "code",
   "execution_count": 1,
   "metadata": {},
   "outputs": [],
   "source": [
    "import numpy as np\n",
    "import pandas as pd"
   ]
  },
  {
   "cell_type": "markdown",
   "metadata": {},
   "source": [
    "Dividimos el estudio en las distintas categorias según normativa RSCE: https://www.rsce.es/images/rsce/Agility/Reglamentos/REGLAMENTO_AGILITY_ENERO_2024_VIGOR.pdf"
   ]
  },
  {
   "cell_type": "markdown",
   "metadata": {},
   "source": [
    "Artículo 15.- Se prevén cuatro (4) categorías en competiciones y pruebas de Agility nacionales que organice\n",
    "o autorice organizar la RSCE y cinco (5) alturas de salto:\n",
    "\n",
    "-  La categoría pequeña (SMALL), para perros por debajo de 35 cm de altura a la cruz, subdividida en\n",
    "dos subcategorías, cada una con su altura de salto:\n",
    "    - La subcategoría XS para perros por debajo de 28 cm (27,99 cm) de altura a la cruz, con una altura\n",
    "de salto de 15 a 20 cm.\n",
    "    - La subcategoría S para perros de 28 hasta 35 cm (34,99 cm) de altura a la cruz, con una altura de\n",
    "salto de 25 a 30 cm.\n",
    "- La categoría mediana (MEDIUM), para perros de 35 hasta 43 cm (42,99 cm) de altura a la cruz, con\n",
    "una altura de salto de 35 a 40 cm.\n",
    "- La categoría intermedia (INTERMEDIATE), para perros de 43 hasta 48 cm (47,99 cm) de altura a la\n",
    "cruz, con una altura de salto de 45 a 50 cm.\n",
    "- La categoría estándar (LARGE), para perros de 48 cm, o más, de altura a la cruz, con una altura de\n",
    "salto de 55 a 60 cm."
   ]
  },
  {
   "cell_type": "markdown",
   "metadata": {},
   "source": []
  },
  {
   "cell_type": "code",
   "execution_count": 2,
   "metadata": {},
   "outputs": [],
   "source": [
    "df_agility = pd.read_csv(\"./data/6_DATA_AGILITY.csv\")"
   ]
  },
  {
   "cell_type": "code",
   "execution_count": 3,
   "metadata": {},
   "outputs": [
    {
     "name": "stdout",
     "output_type": "stream",
     "text": [
      "<class 'pandas.core.frame.DataFrame'>\n",
      "RangeIndex: 32611 entries, 0 to 32610\n",
      "Data columns (total 19 columns):\n",
      " #   Column             Non-Null Count  Dtype  \n",
      "---  ------             --------------  -----  \n",
      " 0   indice             32611 non-null  int64  \n",
      " 1   Index_data         32611 non-null  int64  \n",
      " 2   Fecha              32611 non-null  object \n",
      " 3   License            32611 non-null  object \n",
      " 4   Breed              32611 non-null  object \n",
      " 5   Gender             32611 non-null  object \n",
      " 6   Hight_cm           32611 non-null  float64\n",
      " 7   Classification     32611 non-null  object \n",
      " 8   Speed m/s          32611 non-null  float64\n",
      " 9   Time (s)           32611 non-null  float64\n",
      " 10  Faults             32611 non-null  int64  \n",
      " 11  Refusals           32611 non-null  int64  \n",
      " 12  Competition        32611 non-null  object \n",
      " 13  Location           32611 non-null  object \n",
      " 14  Roof               32611 non-null  object \n",
      " 15  Floor              32611 non-null  object \n",
      " 16  Eliminados         32611 non-null  object \n",
      " 17  Fecha_Competición  32611 non-null  object \n",
      " 18  Pista              32611 non-null  object \n",
      "dtypes: float64(3), int64(4), object(12)\n",
      "memory usage: 4.7+ MB\n"
     ]
    }
   ],
   "source": [
    "df_agility.info()"
   ]
  },
  {
   "cell_type": "code",
   "execution_count": 7,
   "metadata": {},
   "outputs": [],
   "source": [
    "categoria = []\n",
    "for medida in df_agility[\"Hight_cm\"]:\n",
    "    if medida < 28:\n",
    "        categoria.append(\"XS\")\n",
    "    if medida >= 28 and medida < 35:\n",
    "        categoria.append(\"S\")\n",
    "    if medida >= 35 and medida < 43:\n",
    "        categoria.append(\"M\")\n",
    "    if medida >= 43 and medida < 48:\n",
    "        categoria.append(\"I\")\n",
    "    if medida >= 48:\n",
    "        categoria.append(\"L\")\n"
   ]
  },
  {
   "cell_type": "code",
   "execution_count": 8,
   "metadata": {},
   "outputs": [],
   "source": [
    "df_agility[\"Categoria\"] = categoria"
   ]
  },
  {
   "cell_type": "code",
   "execution_count": 9,
   "metadata": {},
   "outputs": [
    {
     "data": {
      "text/plain": [
       "Categoria\n",
       "L     10755\n",
       "M      7252\n",
       "S      6861\n",
       "I      4554\n",
       "XS     3189\n",
       "Name: count, dtype: int64"
      ]
     },
     "execution_count": 9,
     "metadata": {},
     "output_type": "execute_result"
    }
   ],
   "source": [
    "df_agility[\"Categoria\"].value_counts()"
   ]
  },
  {
   "cell_type": "code",
   "execution_count": 10,
   "metadata": {},
   "outputs": [],
   "source": [
    "df_agility.to_csv(\"6_DATA_AGILITY_CATEGORIAS.csv\")"
   ]
  }
 ],
 "metadata": {
  "kernelspec": {
   "display_name": "Python 3",
   "language": "python",
   "name": "python3"
  },
  "language_info": {
   "codemirror_mode": {
    "name": "ipython",
    "version": 3
   },
   "file_extension": ".py",
   "mimetype": "text/x-python",
   "name": "python",
   "nbconvert_exporter": "python",
   "pygments_lexer": "ipython3",
   "version": "3.12.2"
  }
 },
 "nbformat": 4,
 "nbformat_minor": 2
}
