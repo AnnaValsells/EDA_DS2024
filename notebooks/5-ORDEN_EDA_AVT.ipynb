{
 "cells": [
  {
   "cell_type": "code",
   "execution_count": 20,
   "metadata": {},
   "outputs": [],
   "source": [
    "import numpy as np\n",
    "import pandas as pd"
   ]
  },
  {
   "cell_type": "code",
   "execution_count": 21,
   "metadata": {},
   "outputs": [
    {
     "name": "stderr",
     "output_type": "stream",
     "text": [
      "C:\\Users\\annav\\AppData\\Local\\Temp\\ipykernel_15852\\4254276237.py:1: DtypeWarning: Columns (4) have mixed types. Specify dtype option on import or set low_memory=False.\n",
      "  df_agility = pd.read_csv(\"./data/5-DATA_AGILITY.csv\")\n"
     ]
    }
   ],
   "source": [
    "df_agility = pd.read_csv(\"./data/5-DATA_AGILITY.csv\")\n",
    "primer_df = pd.read_json(\"./data/df_agility.json\")"
   ]
  },
  {
   "cell_type": "code",
   "execution_count": 22,
   "metadata": {},
   "outputs": [
    {
     "data": {
      "text/html": [
       "<div>\n",
       "<style scoped>\n",
       "    .dataframe tbody tr th:only-of-type {\n",
       "        vertical-align: middle;\n",
       "    }\n",
       "\n",
       "    .dataframe tbody tr th {\n",
       "        vertical-align: top;\n",
       "    }\n",
       "\n",
       "    .dataframe thead th {\n",
       "        text-align: right;\n",
       "    }\n",
       "</style>\n",
       "<table border=\"1\" class=\"dataframe\">\n",
       "  <thead>\n",
       "    <tr style=\"text-align: right;\">\n",
       "      <th></th>\n",
       "      <th>Unnamed: 0</th>\n",
       "      <th>Index_data</th>\n",
       "      <th>Fecha</th>\n",
       "      <th>Manga</th>\n",
       "      <th>License</th>\n",
       "      <th>Breed</th>\n",
       "      <th>Gender</th>\n",
       "      <th>Hight_cm</th>\n",
       "      <th>Classification</th>\n",
       "      <th>Qualification</th>\n",
       "      <th>Speed m/s</th>\n",
       "      <th>Time (s)</th>\n",
       "      <th>Faults</th>\n",
       "      <th>Refusals</th>\n",
       "      <th>Competition</th>\n",
       "      <th>Location</th>\n",
       "      <th>Roof</th>\n",
       "      <th>Floor</th>\n",
       "    </tr>\n",
       "  </thead>\n",
       "  <tbody>\n",
       "    <tr>\n",
       "      <th>0</th>\n",
       "      <td>0</td>\n",
       "      <td>0</td>\n",
       "      <td>Sabado 6 abril</td>\n",
       "      <td>Jumping</td>\n",
       "      <td>2023280386PS88000015</td>\n",
       "      <td>Continental Toy Spaniel</td>\n",
       "      <td>Male</td>\n",
       "      <td>24.5</td>\n",
       "      <td>-</td>\n",
       "      <td>DISQ</td>\n",
       "      <td>0.00</td>\n",
       "      <td>0.00</td>\n",
       "      <td>-</td>\n",
       "      <td>-</td>\n",
       "      <td>Pataplán 6 y 7 Abril - Liga CASTILLA LA MANCHA</td>\n",
       "      <td>Cuenca / Spain</td>\n",
       "      <td>Outdoor</td>\n",
       "      <td>Sand</td>\n",
       "    </tr>\n",
       "    <tr>\n",
       "      <th>1</th>\n",
       "      <td>1</td>\n",
       "      <td>0</td>\n",
       "      <td>Sabado 6 abril</td>\n",
       "      <td>Agility</td>\n",
       "      <td>2023280386PS88000015</td>\n",
       "      <td>Continental Toy Spaniel</td>\n",
       "      <td>Male</td>\n",
       "      <td>24.5</td>\n",
       "      <td>-</td>\n",
       "      <td>NQ</td>\n",
       "      <td>2.48</td>\n",
       "      <td>79.88</td>\n",
       "      <td>2</td>\n",
       "      <td>2</td>\n",
       "      <td>Pataplán 6 y 7 Abril - Liga CASTILLA LA MANCHA</td>\n",
       "      <td>Cuenca / Spain</td>\n",
       "      <td>Outdoor</td>\n",
       "      <td>Sand</td>\n",
       "    </tr>\n",
       "    <tr>\n",
       "      <th>2</th>\n",
       "      <td>2</td>\n",
       "      <td>0</td>\n",
       "      <td>Sabado 6 abril</td>\n",
       "      <td>Jumping</td>\n",
       "      <td>2022160138RS70000004</td>\n",
       "      <td>Shetland Sheepdog</td>\n",
       "      <td>Female</td>\n",
       "      <td>31.0</td>\n",
       "      <td>1º</td>\n",
       "      <td>V_GOOD</td>\n",
       "      <td>3.59</td>\n",
       "      <td>42.03</td>\n",
       "      <td>1</td>\n",
       "      <td>1</td>\n",
       "      <td>Pataplán 6 y 7 Abril - Liga CASTILLA LA MANCHA</td>\n",
       "      <td>Cuenca / Spain</td>\n",
       "      <td>Outdoor</td>\n",
       "      <td>Sand</td>\n",
       "    </tr>\n",
       "    <tr>\n",
       "      <th>3</th>\n",
       "      <td>3</td>\n",
       "      <td>0</td>\n",
       "      <td>Sabado 6 abril</td>\n",
       "      <td>Agility</td>\n",
       "      <td>2022160138RS70000004</td>\n",
       "      <td>Shetland Sheepdog</td>\n",
       "      <td>Female</td>\n",
       "      <td>31.0</td>\n",
       "      <td>-</td>\n",
       "      <td>DISQ</td>\n",
       "      <td>0.00</td>\n",
       "      <td>0.00</td>\n",
       "      <td>-</td>\n",
       "      <td>-</td>\n",
       "      <td>Pataplán 6 y 7 Abril - Liga CASTILLA LA MANCHA</td>\n",
       "      <td>Cuenca / Spain</td>\n",
       "      <td>Outdoor</td>\n",
       "      <td>Sand</td>\n",
       "    </tr>\n",
       "    <tr>\n",
       "      <th>4</th>\n",
       "      <td>4</td>\n",
       "      <td>0</td>\n",
       "      <td>Sabado 6 abril</td>\n",
       "      <td>Jumping</td>\n",
       "      <td>2018160135RS70000001</td>\n",
       "      <td>Border Collie</td>\n",
       "      <td>Female</td>\n",
       "      <td>50.0</td>\n",
       "      <td>-</td>\n",
       "      <td>DISQ</td>\n",
       "      <td>0.00</td>\n",
       "      <td>0.00</td>\n",
       "      <td>-</td>\n",
       "      <td>-</td>\n",
       "      <td>Pataplán 6 y 7 Abril - Liga CASTILLA LA MANCHA</td>\n",
       "      <td>Cuenca / Spain</td>\n",
       "      <td>Outdoor</td>\n",
       "      <td>Sand</td>\n",
       "    </tr>\n",
       "  </tbody>\n",
       "</table>\n",
       "</div>"
      ],
      "text/plain": [
       "   Unnamed: 0  Index_data           Fecha    Manga               License  \\\n",
       "0           0           0  Sabado 6 abril  Jumping  2023280386PS88000015   \n",
       "1           1           0  Sabado 6 abril  Agility  2023280386PS88000015   \n",
       "2           2           0  Sabado 6 abril  Jumping  2022160138RS70000004   \n",
       "3           3           0  Sabado 6 abril  Agility  2022160138RS70000004   \n",
       "4           4           0  Sabado 6 abril  Jumping  2018160135RS70000001   \n",
       "\n",
       "                     Breed  Gender  Hight_cm Classification Qualification  \\\n",
       "0  Continental Toy Spaniel    Male      24.5              -          DISQ   \n",
       "1  Continental Toy Spaniel    Male      24.5              -            NQ   \n",
       "2        Shetland Sheepdog  Female      31.0             1º        V_GOOD   \n",
       "3        Shetland Sheepdog  Female      31.0              -          DISQ   \n",
       "4            Border Collie  Female      50.0              -          DISQ   \n",
       "\n",
       "   Speed m/s  Time (s) Faults Refusals  \\\n",
       "0       0.00      0.00      -        -   \n",
       "1       2.48     79.88      2        2   \n",
       "2       3.59     42.03      1        1   \n",
       "3       0.00      0.00      -        -   \n",
       "4       0.00      0.00      -        -   \n",
       "\n",
       "                                      Competition        Location     Roof  \\\n",
       "0  Pataplán 6 y 7 Abril - Liga CASTILLA LA MANCHA  Cuenca / Spain  Outdoor   \n",
       "1  Pataplán 6 y 7 Abril - Liga CASTILLA LA MANCHA  Cuenca / Spain  Outdoor   \n",
       "2  Pataplán 6 y 7 Abril - Liga CASTILLA LA MANCHA  Cuenca / Spain  Outdoor   \n",
       "3  Pataplán 6 y 7 Abril - Liga CASTILLA LA MANCHA  Cuenca / Spain  Outdoor   \n",
       "4  Pataplán 6 y 7 Abril - Liga CASTILLA LA MANCHA  Cuenca / Spain  Outdoor   \n",
       "\n",
       "  Floor  \n",
       "0  Sand  \n",
       "1  Sand  \n",
       "2  Sand  \n",
       "3  Sand  \n",
       "4  Sand  "
      ]
     },
     "execution_count": 22,
     "metadata": {},
     "output_type": "execute_result"
    }
   ],
   "source": [
    "df_agility.head(5)"
   ]
  },
  {
   "cell_type": "code",
   "execution_count": 23,
   "metadata": {},
   "outputs": [],
   "source": [
    "df_agility.drop(columns = [\"Unnamed: 0\"], inplace = True)"
   ]
  },
  {
   "cell_type": "code",
   "execution_count": 24,
   "metadata": {},
   "outputs": [
    {
     "data": {
      "text/plain": [
       "Qualification\n",
       "EXC_0       11972\n",
       "DISQ         8498\n",
       "EXC          6472\n",
       "V_GOOD       4055\n",
       "GOOD          700\n",
       "DISQ (R)      402\n",
       "NP            355\n",
       "NQ            160\n",
       "DISQ (T)      157\n",
       "Name: count, dtype: int64"
      ]
     },
     "execution_count": 24,
     "metadata": {},
     "output_type": "execute_result"
    }
   ],
   "source": [
    "df_agility[\"Qualification\"].value_counts()"
   ]
  },
  {
   "cell_type": "code",
   "execution_count": 25,
   "metadata": {},
   "outputs": [],
   "source": [
    "eliminados = []\n",
    "for elim in df_agility[\"Qualification\"]:\n",
    "    if elim == \"DISQ\" or elim == \"DISQ (R)\" or elim == \"DISQ (T)\":\n",
    "        eliminados.append(\"ELIM\")\n",
    "    else:\n",
    "        eliminados.append(elim)"
   ]
  },
  {
   "cell_type": "code",
   "execution_count": 26,
   "metadata": {},
   "outputs": [
    {
     "data": {
      "text/plain": [
       "Eliminados\n",
       "EXC_0     11972\n",
       "ELIM       9057\n",
       "EXC        6472\n",
       "V_GOOD     4055\n",
       "GOOD        700\n",
       "NP          355\n",
       "NQ          160\n",
       "Name: count, dtype: int64"
      ]
     },
     "execution_count": 26,
     "metadata": {},
     "output_type": "execute_result"
    }
   ],
   "source": [
    "df_agility[\"Eliminados\"] = eliminados\n",
    "\n",
    "df_agility[\"Eliminados\"].value_counts()"
   ]
  },
  {
   "cell_type": "code",
   "execution_count": 27,
   "metadata": {},
   "outputs": [
    {
     "name": "stdout",
     "output_type": "stream",
     "text": [
      "<class 'pandas.core.frame.DataFrame'>\n",
      "Index: 32611 entries, 0 to 32770\n",
      "Data columns (total 18 columns):\n",
      " #   Column          Non-Null Count  Dtype  \n",
      "---  ------          --------------  -----  \n",
      " 0   Index_data      32611 non-null  int64  \n",
      " 1   Fecha           32611 non-null  object \n",
      " 2   Manga           32611 non-null  object \n",
      " 3   License         32611 non-null  object \n",
      " 4   Breed           32611 non-null  object \n",
      " 5   Gender          32611 non-null  object \n",
      " 6   Hight_cm        32611 non-null  float64\n",
      " 7   Classification  32611 non-null  object \n",
      " 8   Qualification   32611 non-null  object \n",
      " 9   Speed m/s       32611 non-null  float64\n",
      " 10  Time (s)        32611 non-null  float64\n",
      " 11  Faults          32611 non-null  object \n",
      " 12  Refusals        32611 non-null  object \n",
      " 13  Competition     32611 non-null  object \n",
      " 14  Location        32611 non-null  object \n",
      " 15  Roof            32611 non-null  object \n",
      " 16  Floor           32611 non-null  object \n",
      " 17  Eliminados      32611 non-null  object \n",
      "dtypes: float64(3), int64(1), object(14)\n",
      "memory usage: 4.7+ MB\n"
     ]
    }
   ],
   "source": [
    "# Eliminamos los participantes NP (No Presentados) y NQ (No tienen Qualificación ni resultado de Classificación)\n",
    "index_NP = df_agility.loc[df_agility[\"Eliminados\"] == \"NQ\"].index.to_list()\n",
    "\n",
    "df_agility = df_agility.drop(index_NP)\n",
    "df_agility.info()"
   ]
  },
  {
   "cell_type": "code",
   "execution_count": 28,
   "metadata": {},
   "outputs": [],
   "source": [
    "indice = list(range(32611))\n",
    "df_agility[\"indice\"] = indice\n",
    "df_agility = df_agility.set_index(\"indice\")"
   ]
  },
  {
   "cell_type": "code",
   "execution_count": 29,
   "metadata": {},
   "outputs": [
    {
     "name": "stdout",
     "output_type": "stream",
     "text": [
      "<class 'pandas.core.frame.DataFrame'>\n",
      "Index: 32611 entries, 0 to 32610\n",
      "Data columns (total 18 columns):\n",
      " #   Column          Non-Null Count  Dtype  \n",
      "---  ------          --------------  -----  \n",
      " 0   Index_data      32611 non-null  int64  \n",
      " 1   Fecha           32611 non-null  object \n",
      " 2   Manga           32611 non-null  object \n",
      " 3   License         32611 non-null  object \n",
      " 4   Breed           32611 non-null  object \n",
      " 5   Gender          32611 non-null  object \n",
      " 6   Hight_cm        32611 non-null  float64\n",
      " 7   Classification  32611 non-null  object \n",
      " 8   Qualification   32611 non-null  object \n",
      " 9   Speed m/s       32611 non-null  float64\n",
      " 10  Time (s)        32611 non-null  float64\n",
      " 11  Faults          32611 non-null  object \n",
      " 12  Refusals        32611 non-null  object \n",
      " 13  Competition     32611 non-null  object \n",
      " 14  Location        32611 non-null  object \n",
      " 15  Roof            32611 non-null  object \n",
      " 16  Floor           32611 non-null  object \n",
      " 17  Eliminados      32611 non-null  object \n",
      "dtypes: float64(3), int64(1), object(14)\n",
      "memory usage: 4.7+ MB\n"
     ]
    }
   ],
   "source": [
    "df_agility.info()"
   ]
  },
  {
   "cell_type": "markdown",
   "metadata": {},
   "source": [
    "| Columna | Descripción| Comentario|\n",
    "|---|---|---|\n",
    "|Index_data| Número relacionado con el evento de la competición| generado en el primero dataset|\n",
    "|Fecha| Día de la competición | + Si no tiene año es del 2024 + modificar formato|\n",
    "|Manga| Tipo de pista| Jumping o Agility|\n",
    "|License| identificador individual del Binomio| Groupby con Breed, Gender, Hight_cm|\n",
    "|Breed| Razas de los perros|-|\n",
    "|Gender| Hembra o Macho|-|\n",
    "|Hight_cm| Altura de la cruz|-|\n",
    "|Classification| 1r, 2o, 3o| Ganadores de la competición|\n",
    "|Qualification| EXC_0,DISQ,EXC,V_GOOD,GOOD,DISQ (R),NP,NQ,DISQ (T)| EXC_0 = Pista a cero, DISQ (R y T?)= Eliminado, NP= No presentado|\n",
    "|Speed| Velocidad del perro|-|\n",
    "|Time| Tiempo en pista|-|\n",
    "|Faults| nº de Faltas realizadas en pista|-|\n",
    "|Refusals| nº de Faltas leves realizadas en pista|-|\n",
    "|Competition| Nombre de la competición| relacionado con Index_data|\n",
    "|Location| Lugar de la competicion| relacionado con Competición|\n",
    "|Roof| Tipo de techo de la competición| Outdoor o indoor|\n",
    "|Floor| Tipo de suelo| ...|\n",
    "|Eliminados| Misma columna que Qualification pero limpia|-|\n",
    "\n"
   ]
  },
  {
   "cell_type": "code",
   "execution_count": 30,
   "metadata": {},
   "outputs": [],
   "source": [
    "# Borro la Columna Qualification porque ya tenemos la de Eliminados que nos da la misma información limpia\n",
    "del df_agility[\"Qualification\"]"
   ]
  },
  {
   "cell_type": "code",
   "execution_count": 31,
   "metadata": {},
   "outputs": [],
   "source": [
    "# Rehago la fecha:\n",
    "list_date = []\n",
    "for indice in df_agility[\"Index_data\"]:\n",
    "    list_date.append(primer_df[\"shortDate\"][indice])\n",
    "\n",
    "df_agility[\"Fecha_Competición\"] = list_date"
   ]
  },
  {
   "cell_type": "code",
   "execution_count": 32,
   "metadata": {},
   "outputs": [
    {
     "data": {
      "text/plain": [
       "array(['Apr 6 - 7', 'Apr 5 - 7', 'Mar 29 - 31', 'Mar 28 - 31',\n",
       "       'Mar 28 - Apr 1', 'Mar 23 - 24', 'Mar 23', 'Mar 17', 'Mar 16 - 17',\n",
       "       'Mar 16', 'Mar 10', 'Mar 9', 'Mar 9 - 10', 'Mar 3', 'Mar 2 - 3',\n",
       "       'Mar 1 - 3', 'Feb 25', 'Feb 24 - 25', 'Feb 23', 'Feb 17 - 18',\n",
       "       'Feb 17', 'Feb 11', 'Feb 10 - 11', 'Feb 3 - 4', 'Jan 27 - 28',\n",
       "       'Jan 27', 'Jan 26 - 28', 'Jan 21', 'Jan 20 - 21', 'Jan 19 - 21',\n",
       "       'Jan 19', 'Jan 13 - 14', 'Jan 7', 'Jan 6 - 7', 'Dec 30 - 31, 2023',\n",
       "       'Dec 29 - 31, 2023', 'Dec 23 - 24, 2023', 'Dec 17, 2023',\n",
       "       'Dec 16, 2023', 'Dec 16 - 17, 2023', 'Dec 15, 2023',\n",
       "       'Dec 9 - 10, 2023', 'Dec 8 - 10, 2023', 'Dec 6 - 10, 2023',\n",
       "       'Dec 2 - 3, 2023', 'Dec 1 - 3, 2023', 'Nov 30 - Dec 1, 2023',\n",
       "       'Nov 26, 2023', 'Nov 25 - 26, 2023', 'Nov 25, 2023',\n",
       "       'Nov 24 - 26, 2023', 'Nov 18 - 19, 2023', 'Nov 17, 2023',\n",
       "       'Nov 17 - 19, 2023', 'Nov 12, 2023', 'Nov 11, 2023',\n",
       "       'Nov 11 - 12, 2023', 'Nov 10 - 12, 2023', 'Nov 5, 2023',\n",
       "       'Nov 4 - 5, 2023', 'Nov 3 - 5, 2023', 'Oct 28 - 29, 2023',\n",
       "       'Oct 28 - Nov 1, 2023', 'Oct 22, 2023', 'Oct 21 - 22, 2023',\n",
       "       'Oct 21, 2023', 'Oct 14 - 15, 2023', 'Oct 13 - 15, 2023',\n",
       "       'Oct 12 - 15, 2023', 'Oct 7 - 8, 2023', 'Oct 7 - 9, 2023',\n",
       "       'Oct 6, 2023', 'Oct 6 - 8, 2023', 'Sep 30 - Oct 1, 2023',\n",
       "       'Sep 30, 2023', 'Sep 29 - Oct 1, 2023', 'Sep 23 - 24, 2023',\n",
       "       'Sep 23, 2023', 'Sep 17, 2023', 'Sep 16 - 17, 2023',\n",
       "       'Sep 15 - 17, 2023', 'Sep 9 - 10, 2023', 'Sep 2 - 3, 2023',\n",
       "       'Sep 2, 2023', 'Aug 26, 2023', 'Aug 26 - 27, 2023',\n",
       "       'Aug 25 - 27, 2023', 'Aug 25 - Sep 3, 2023', 'Aug 20, 2023',\n",
       "       'Aug 19, 2023', 'Aug 12 - 20, 2023', 'Aug 5 - 6, 2023',\n",
       "       'Aug 2 - 6, 2023', 'Jul 29 - 30, 2023', 'Jul 29, 2023',\n",
       "       'Jul 28 - 30, 2023', 'Jul 22 - 23, 2023', 'Jul 21 - 23, 2023',\n",
       "       'Jul 15 - 16, 2023', 'Jul 14 - 16, 2023', 'Jul 9, 2023',\n",
       "       'Jul 8, 2023', 'Jul 8 - 9, 2023', 'Jul 7 - 9, 2023',\n",
       "       'Jul 1 - 2, 2023', 'Jun 30 - Jul 2, 2023', 'Jun 24 - 25, 2023',\n",
       "       'Jun 23 - 25, 2023', 'Jun 23 - Jul 2, 2023', 'Jun 18, 2023',\n",
       "       'Jun 17, 2023', 'Jun 17 - 18, 2023', 'Jun 16 - 17, 2023',\n",
       "       'Jun 11, 2023', 'Jun 10 - 11, 2023', 'Jun 10, 2023',\n",
       "       'Jun 8 - 10, 2023', 'Jun 3 - 4, 2023', 'May 27 - 29, 2023',\n",
       "       'May 27 - 28, 2023', 'May 26 - 28, 2023', 'May 21, 2023',\n",
       "       'May 20 - 21, 2023', 'May 13 - 14, 2023', 'May 13, 2023',\n",
       "       'May 12 - 14, 2023', 'May 7, 2023', 'May 6 - 7, 2023',\n",
       "       'Apr 29 - 30, 2023', 'Apr 29 - May 1, 2023', 'Apr 22 - 23, 2023',\n",
       "       'Apr 22, 2023', 'Apr 15 - 16, 2023', 'Apr 15, 2023',\n",
       "       'Apr 13, 2023', 'Apr 9, 2023', 'Apr 7 - 9, 2023',\n",
       "       'Apr 6 - 10, 2023', 'Apr 2, 2023', 'Apr 1 - 2, 2023',\n",
       "       'Apr 1, 2023', 'Mar 31 - Apr 2, 2023', 'Mar 25 - 26, 2023',\n",
       "       'Mar 24 - 26, 2023', 'Mar 18 - 19, 2023', 'Mar 12, 2023',\n",
       "       'Mar 11 - 12, 2023', 'Mar 4 - 5, 2023', 'Mar 3 - 6, 2023',\n",
       "       'Feb 26, 2023', 'Feb 25 - 26, 2023', 'Feb 18 - 19, 2023',\n",
       "       'Feb 12, 2023', 'Feb 11 - 12, 2023', 'Feb 11, 2023',\n",
       "       'Feb 10, 2023', 'Feb 5, 2023', 'Feb 4 - 5, 2023',\n",
       "       'Jan 28 - 29, 2023', 'Jan 28, 2023', 'Jan 27 - 29, 2023',\n",
       "       'Jan 21 - 22, 2023', 'Jan 14 - 15, 2023', 'Jan 7 - 8, 2023',\n",
       "       'Dec 31, 2022', 'Dec 30 - 31, 2022', 'Dec 24, 2022',\n",
       "       'Dec 17 - 18, 2022', 'Dec 17, 2022', 'Dec 10 - 11, 2022',\n",
       "       'Dec 10, 2022', 'Dec 3 - 4, 2022', 'Dec 3, 2022', 'Nov 26, 2022',\n",
       "       'Nov 26 - 27, 2022', 'Nov 19 - 20, 2022', 'Nov 19, 2022',\n",
       "       'Nov 12, 2022', 'Nov 12 - 13, 2022', 'Nov 10 - 11, 2022',\n",
       "       'Nov 5 - 6, 2022', 'Oct 29 - Nov 1, 2022', 'Oct 22 - 23, 2022',\n",
       "       'Oct 15 - 16, 2022', 'Oct 14 - 16, 2022', 'Oct 8 - 9, 2022',\n",
       "       'Oct 1, 2022', 'Oct 1 - 2, 2022', 'Sep 25, 2022',\n",
       "       'Sep 24 - 25, 2022', 'Sep 24, 2022', 'Sep 17 - 18, 2022',\n",
       "       'Sep 16 - 18, 2022', 'Sep 10 - 11, 2022', 'Sep 3 - 4, 2022',\n",
       "       'Sep 3, 2022', 'Aug 13 - 14, 2022', 'Aug 13 - 21, 2022',\n",
       "       'Aug 6, 2022', 'Aug 6 - 7, 2022', 'Aug 3 - 7, 2022',\n",
       "       'Jul 29 - 30, 2022', 'Jul 23 - 24, 2022', 'Jul 16, 2022',\n",
       "       'Jul 15 - 16, 2022', 'Jul 15 - 17, 2022', 'Jul 9 - 10, 2022',\n",
       "       'Jul 8 - 9, 2022', 'Jul 2 - 3, 2022', 'Jul 1 - 2, 2022',\n",
       "       'Jun 25 - 26, 2022', 'Jun 25 - 27, 2022', 'Jun 23 - 24, 2022',\n",
       "       'Jun 18 - 19, 2022', 'Jun 16 - 19, 2022', 'Jun 11, 2022',\n",
       "       'Jun 11 - 12, 2022', 'Jun 4 - 5, 2022', 'May 28 - 30, 2022',\n",
       "       'May 28 - 29, 2022', 'May 27 - 29, 2022', 'May 21 - 22, 2022',\n",
       "       'May 14 - 15, 2022', 'May 14, 2022', 'May 7 - 8, 2022',\n",
       "       'May 6 - 8, 2022', 'Apr 30 - May 1, 2022', 'Apr 23 - 24, 2022',\n",
       "       'Apr 23, 2022', 'Apr 23 - 25, 2022', 'Apr 22 - 24, 2022',\n",
       "       'Apr 16 - 17, 2022', 'Apr 15 - 17, 2022', 'Apr 14 - 17, 2022',\n",
       "       'Apr 9 - 10, 2022', 'Apr 3, 2022', 'Mar 27, 2022',\n",
       "       'Mar 26 - 27, 2022', 'Mar 26, 2022', 'Mar 20, 2022',\n",
       "       'Mar 19 - 20, 2022', 'Mar 18 - 20, 2022', 'Mar 12 - 13, 2022',\n",
       "       'Mar 5 - 6, 2022', 'Feb 26 - 27, 2022', 'Feb 25 - 27, 2022',\n",
       "       'Feb 19 - 20, 2022', 'Feb 12 - 13, 2022', 'Feb 11 - 13, 2022',\n",
       "       'Feb 5 - 6, 2022', 'Jan 29 - 30, 2022', 'Jan 22 - 23, 2022',\n",
       "       'Jan 15 - 16, 2022', 'Jan 14 - 16, 2022', 'Jan 8 - 9, 2022',\n",
       "       'Dec 31, 2021', 'Dec 18 - 19, 2021', 'Dec 17 - 19, 2021',\n",
       "       'Dec 11, 2021', 'Nov 27 - 28, 2021', 'Nov 20 - 21, 2021',\n",
       "       'Nov 13 - 14, 2021', 'Nov 6 - 7, 2021', 'Oct 30 - Nov 1, 2021',\n",
       "       'Oct 23 - 24, 2021'], dtype=object)"
      ]
     },
     "execution_count": 32,
     "metadata": {},
     "output_type": "execute_result"
    }
   ],
   "source": [
    "# Decido no canviar a formato datetime. Demasiados patrones distintos y no es tan relevante para el estudio.\n",
    "df_agility[\"Fecha_Competición\"].unique()"
   ]
  },
  {
   "cell_type": "code",
   "execution_count": 33,
   "metadata": {},
   "outputs": [
    {
     "data": {
      "text/plain": [
       "Manga\n",
       "Jumping      13201\n",
       "Agility      12381\n",
       "Agility 2     2225\n",
       "Agility 1     2212\n",
       "Jumping 2     1205\n",
       "Jumping 1     1204\n",
       "Agility 3      127\n",
       "Jumping 3       48\n",
       "Jumping 4        8\n",
       "Name: count, dtype: int64"
      ]
     },
     "execution_count": 33,
     "metadata": {},
     "output_type": "execute_result"
    }
   ],
   "source": [
    "df_agility[\"Manga\"].value_counts()"
   ]
  },
  {
   "cell_type": "code",
   "execution_count": 34,
   "metadata": {},
   "outputs": [],
   "source": [
    "lista_pista = []\n",
    "for manga in df_agility[\"Manga\"]:\n",
    "    if manga.startswith(\"Jumping\"):\n",
    "        lista_pista.append(\"Jumping\")\n",
    "    if manga.startswith(\"Agility\"):\n",
    "        lista_pista.append(\"Agility\")"
   ]
  },
  {
   "cell_type": "code",
   "execution_count": 35,
   "metadata": {},
   "outputs": [
    {
     "data": {
      "text/plain": [
       "Pista\n",
       "Agility    16945\n",
       "Jumping    15666\n",
       "Name: count, dtype: int64"
      ]
     },
     "execution_count": 35,
     "metadata": {},
     "output_type": "execute_result"
    }
   ],
   "source": [
    "df_agility[\"Pista\"] = lista_pista\n",
    "df_agility[\"Pista\"].value_counts()"
   ]
  },
  {
   "cell_type": "code",
   "execution_count": 36,
   "metadata": {},
   "outputs": [],
   "source": [
    "# Elimino la columna Manga porque ya se ha creado Pista que está limpia\n",
    "del df_agility[\"Manga\"]"
   ]
  },
  {
   "cell_type": "code",
   "execution_count": 37,
   "metadata": {},
   "outputs": [
    {
     "name": "stdout",
     "output_type": "stream",
     "text": [
      "<class 'pandas.core.frame.DataFrame'>\n",
      "Index: 32611 entries, 0 to 32610\n",
      "Data columns (total 18 columns):\n",
      " #   Column             Non-Null Count  Dtype  \n",
      "---  ------             --------------  -----  \n",
      " 0   Index_data         32611 non-null  int64  \n",
      " 1   Fecha              32611 non-null  object \n",
      " 2   License            32611 non-null  object \n",
      " 3   Breed              32611 non-null  object \n",
      " 4   Gender             32611 non-null  object \n",
      " 5   Hight_cm           32611 non-null  float64\n",
      " 6   Classification     32611 non-null  object \n",
      " 7   Speed m/s          32611 non-null  float64\n",
      " 8   Time (s)           32611 non-null  float64\n",
      " 9   Faults             32611 non-null  object \n",
      " 10  Refusals           32611 non-null  object \n",
      " 11  Competition        32611 non-null  object \n",
      " 12  Location           32611 non-null  object \n",
      " 13  Roof               32611 non-null  object \n",
      " 14  Floor              32611 non-null  object \n",
      " 15  Eliminados         32611 non-null  object \n",
      " 16  Fecha_Competición  32611 non-null  object \n",
      " 17  Pista              32611 non-null  object \n",
      "dtypes: float64(3), int64(1), object(14)\n",
      "memory usage: 4.7+ MB\n"
     ]
    }
   ],
   "source": [
    "df_agility.info()"
   ]
  },
  {
   "cell_type": "code",
   "execution_count": 38,
   "metadata": {},
   "outputs": [],
   "source": [
    "def corrige_a_cero(resultado):\n",
    "    a_cero = float(resultado.replace(\"-\", \"0\"))\n",
    "    return float(a_cero)\n",
    "\n",
    "def corrige_eliminado(resultado):\n",
    "    eliminado = float(resultado.replace(\"-\", \"100\"))\n",
    "    return float(eliminado)"
   ]
  },
  {
   "cell_type": "code",
   "execution_count": 46,
   "metadata": {},
   "outputs": [
    {
     "data": {
      "text/plain": [
       "indice\n",
       "0        -\n",
       "2        -\n",
       "3        -\n",
       "5        -\n",
       "7        -\n",
       "        ..\n",
       "32596    -\n",
       "32599    -\n",
       "32601    -\n",
       "32606    -\n",
       "32608    -\n",
       "Name: Faults, Length: 9057, dtype: object"
      ]
     },
     "execution_count": 46,
     "metadata": {},
     "output_type": "execute_result"
    }
   ],
   "source": [
    "# Marcamos los 0 reales y los eliminados en Faltas y Rehuses\n",
    "es_eliminado = df_agility[\"Eliminados\"] == \"ELIM\"\n",
    "faltas_elim = df_agility[\"Faults\"].isin([\"-\"])\n",
    "filtro = es_eliminado & faltas_elim"
   ]
  },
  {
   "cell_type": "code",
   "execution_count": 52,
   "metadata": {},
   "outputs": [],
   "source": [
    "es_eliminado2 = df_agility[\"Eliminados\"] == \"ELIM\"\n",
    "faltas_elim2 = df_agility[\"Refusals\"].isin([\"-\"])\n",
    "mascara = es_eliminado2 & faltas_elim2"
   ]
  },
  {
   "cell_type": "code",
   "execution_count": 47,
   "metadata": {},
   "outputs": [
    {
     "name": "stderr",
     "output_type": "stream",
     "text": [
      "C:\\Users\\annav\\AppData\\Local\\Temp\\ipykernel_15852\\2795337297.py:1: FutureWarning: ChainedAssignmentError: behaviour will change in pandas 3.0!\n",
      "You are setting values through chained assignment. Currently this works in certain cases, but when using Copy-on-Write (which will become the default behaviour in pandas 3.0) this will never work to update the original DataFrame or Series, because the intermediate object on which we are setting values will behave as a copy.\n",
      "A typical example is when you are setting values in a column of a DataFrame, like:\n",
      "\n",
      "df[\"col\"][row_indexer] = value\n",
      "\n",
      "Use `df.loc[row_indexer, \"col\"] = values` instead, to perform the assignment in a single step and ensure this keeps updating the original `df`.\n",
      "\n",
      "See the caveats in the documentation: https://pandas.pydata.org/pandas-docs/stable/user_guide/indexing.html#returning-a-view-versus-a-copy\n",
      "\n",
      "  df_agility[\"Faults\"].loc[filtro] = df_agility[\"Faults\"].loc[filtro].apply(corrige_eliminado)\n",
      "C:\\Users\\annav\\AppData\\Local\\Temp\\ipykernel_15852\\2795337297.py:1: SettingWithCopyWarning: \n",
      "A value is trying to be set on a copy of a slice from a DataFrame\n",
      "\n",
      "See the caveats in the documentation: https://pandas.pydata.org/pandas-docs/stable/user_guide/indexing.html#returning-a-view-versus-a-copy\n",
      "  df_agility[\"Faults\"].loc[filtro] = df_agility[\"Faults\"].loc[filtro].apply(corrige_eliminado)\n"
     ]
    }
   ],
   "source": [
    "df_agility[\"Faults\"].loc[filtro] = df_agility[\"Faults\"].loc[filtro].apply(corrige_eliminado)"
   ]
  },
  {
   "cell_type": "code",
   "execution_count": 53,
   "metadata": {},
   "outputs": [
    {
     "name": "stderr",
     "output_type": "stream",
     "text": [
      "C:\\Users\\annav\\AppData\\Local\\Temp\\ipykernel_15852\\4019760149.py:1: FutureWarning: ChainedAssignmentError: behaviour will change in pandas 3.0!\n",
      "You are setting values through chained assignment. Currently this works in certain cases, but when using Copy-on-Write (which will become the default behaviour in pandas 3.0) this will never work to update the original DataFrame or Series, because the intermediate object on which we are setting values will behave as a copy.\n",
      "A typical example is when you are setting values in a column of a DataFrame, like:\n",
      "\n",
      "df[\"col\"][row_indexer] = value\n",
      "\n",
      "Use `df.loc[row_indexer, \"col\"] = values` instead, to perform the assignment in a single step and ensure this keeps updating the original `df`.\n",
      "\n",
      "See the caveats in the documentation: https://pandas.pydata.org/pandas-docs/stable/user_guide/indexing.html#returning-a-view-versus-a-copy\n",
      "\n",
      "  df_agility[\"Refusals\"].loc[mascara] = df_agility[\"Refusals\"].loc[mascara].apply(corrige_eliminado)\n",
      "C:\\Users\\annav\\AppData\\Local\\Temp\\ipykernel_15852\\4019760149.py:1: SettingWithCopyWarning: \n",
      "A value is trying to be set on a copy of a slice from a DataFrame\n",
      "\n",
      "See the caveats in the documentation: https://pandas.pydata.org/pandas-docs/stable/user_guide/indexing.html#returning-a-view-versus-a-copy\n",
      "  df_agility[\"Refusals\"].loc[mascara] = df_agility[\"Refusals\"].loc[mascara].apply(corrige_eliminado)\n"
     ]
    }
   ],
   "source": [
    "df_agility[\"Refusals\"].loc[mascara] = df_agility[\"Refusals\"].loc[mascara].apply(corrige_eliminado)"
   ]
  },
  {
   "cell_type": "code",
   "execution_count": 49,
   "metadata": {},
   "outputs": [
    {
     "name": "stderr",
     "output_type": "stream",
     "text": [
      "C:\\Users\\annav\\AppData\\Local\\Temp\\ipykernel_15852\\3753487796.py:2: FutureWarning: ChainedAssignmentError: behaviour will change in pandas 3.0!\n",
      "You are setting values through chained assignment. Currently this works in certain cases, but when using Copy-on-Write (which will become the default behaviour in pandas 3.0) this will never work to update the original DataFrame or Series, because the intermediate object on which we are setting values will behave as a copy.\n",
      "A typical example is when you are setting values in a column of a DataFrame, like:\n",
      "\n",
      "df[\"col\"][row_indexer] = value\n",
      "\n",
      "Use `df.loc[row_indexer, \"col\"] = values` instead, to perform the assignment in a single step and ensure this keeps updating the original `df`.\n",
      "\n",
      "See the caveats in the documentation: https://pandas.pydata.org/pandas-docs/stable/user_guide/indexing.html#returning-a-view-versus-a-copy\n",
      "\n",
      "  df_agility[\"Faults\"].loc[ceros_reales] = df_agility[\"Faults\"].loc[ceros_reales].apply(corrige_a_cero)\n",
      "C:\\Users\\annav\\AppData\\Local\\Temp\\ipykernel_15852\\3753487796.py:2: SettingWithCopyWarning: \n",
      "A value is trying to be set on a copy of a slice from a DataFrame\n",
      "\n",
      "See the caveats in the documentation: https://pandas.pydata.org/pandas-docs/stable/user_guide/indexing.html#returning-a-view-versus-a-copy\n",
      "  df_agility[\"Faults\"].loc[ceros_reales] = df_agility[\"Faults\"].loc[ceros_reales].apply(corrige_a_cero)\n"
     ]
    }
   ],
   "source": [
    "ceros_reales = df_agility[\"Faults\"].isin([\"-\"])\n",
    "df_agility[\"Faults\"].loc[ceros_reales] = df_agility[\"Faults\"].loc[ceros_reales].apply(corrige_a_cero)"
   ]
  },
  {
   "cell_type": "code",
   "execution_count": 54,
   "metadata": {},
   "outputs": [
    {
     "name": "stderr",
     "output_type": "stream",
     "text": [
      "C:\\Users\\annav\\AppData\\Local\\Temp\\ipykernel_15852\\3911609884.py:2: FutureWarning: ChainedAssignmentError: behaviour will change in pandas 3.0!\n",
      "You are setting values through chained assignment. Currently this works in certain cases, but when using Copy-on-Write (which will become the default behaviour in pandas 3.0) this will never work to update the original DataFrame or Series, because the intermediate object on which we are setting values will behave as a copy.\n",
      "A typical example is when you are setting values in a column of a DataFrame, like:\n",
      "\n",
      "df[\"col\"][row_indexer] = value\n",
      "\n",
      "Use `df.loc[row_indexer, \"col\"] = values` instead, to perform the assignment in a single step and ensure this keeps updating the original `df`.\n",
      "\n",
      "See the caveats in the documentation: https://pandas.pydata.org/pandas-docs/stable/user_guide/indexing.html#returning-a-view-versus-a-copy\n",
      "\n",
      "  df_agility[\"Refusals\"].loc[ceros_reales2] = df_agility[\"Refusals\"].loc[ceros_reales2].apply(corrige_a_cero)\n",
      "C:\\Users\\annav\\AppData\\Local\\Temp\\ipykernel_15852\\3911609884.py:2: SettingWithCopyWarning: \n",
      "A value is trying to be set on a copy of a slice from a DataFrame\n",
      "\n",
      "See the caveats in the documentation: https://pandas.pydata.org/pandas-docs/stable/user_guide/indexing.html#returning-a-view-versus-a-copy\n",
      "  df_agility[\"Refusals\"].loc[ceros_reales2] = df_agility[\"Refusals\"].loc[ceros_reales2].apply(corrige_a_cero)\n"
     ]
    }
   ],
   "source": [
    "ceros_reales2 = df_agility[\"Refusals\"].isin([\"-\"])\n",
    "df_agility[\"Refusals\"].loc[ceros_reales2] = df_agility[\"Refusals\"].loc[ceros_reales2].apply(corrige_a_cero)"
   ]
  },
  {
   "cell_type": "code",
   "execution_count": 55,
   "metadata": {},
   "outputs": [],
   "source": [
    "df_agility[\"Faults\"] = df_agility[\"Faults\"].astype(int)\n",
    "df_agility[\"Refusals\"] =  df_agility[\"Refusals\"].astype(int)"
   ]
  },
  {
   "cell_type": "code",
   "execution_count": 56,
   "metadata": {},
   "outputs": [
    {
     "name": "stdout",
     "output_type": "stream",
     "text": [
      "<class 'pandas.core.frame.DataFrame'>\n",
      "Index: 32611 entries, 0 to 32610\n",
      "Data columns (total 18 columns):\n",
      " #   Column             Non-Null Count  Dtype  \n",
      "---  ------             --------------  -----  \n",
      " 0   Index_data         32611 non-null  int64  \n",
      " 1   Fecha              32611 non-null  object \n",
      " 2   License            32611 non-null  object \n",
      " 3   Breed              32611 non-null  object \n",
      " 4   Gender             32611 non-null  object \n",
      " 5   Hight_cm           32611 non-null  float64\n",
      " 6   Classification     32611 non-null  object \n",
      " 7   Speed m/s          32611 non-null  float64\n",
      " 8   Time (s)           32611 non-null  float64\n",
      " 9   Faults             32611 non-null  int32  \n",
      " 10  Refusals           32611 non-null  int32  \n",
      " 11  Competition        32611 non-null  object \n",
      " 12  Location           32611 non-null  object \n",
      " 13  Roof               32611 non-null  object \n",
      " 14  Floor              32611 non-null  object \n",
      " 15  Eliminados         32611 non-null  object \n",
      " 16  Fecha_Competición  32611 non-null  object \n",
      " 17  Pista              32611 non-null  object \n",
      "dtypes: float64(3), int32(2), int64(1), object(12)\n",
      "memory usage: 4.5+ MB\n"
     ]
    }
   ],
   "source": [
    "df_agility.info()"
   ]
  },
  {
   "cell_type": "code",
   "execution_count": 57,
   "metadata": {},
   "outputs": [],
   "source": [
    "df_agility.to_csv(\"6_DATA_AGILITY.csv\")"
   ]
  },
  {
   "cell_type": "markdown",
   "metadata": {},
   "source": []
  }
 ],
 "metadata": {
  "kernelspec": {
   "display_name": "Python 3",
   "language": "python",
   "name": "python3"
  },
  "language_info": {
   "codemirror_mode": {
    "name": "ipython",
    "version": 3
   },
   "file_extension": ".py",
   "mimetype": "text/x-python",
   "name": "python",
   "nbconvert_exporter": "python",
   "pygments_lexer": "ipython3",
   "version": "3.12.2"
  }
 },
 "nbformat": 4,
 "nbformat_minor": 2
}
