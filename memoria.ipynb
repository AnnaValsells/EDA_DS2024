{
 "cells": [
  {
   "cell_type": "markdown",
   "metadata": {},
   "source": [
    "# EL PERRO PERFECTO EXISTE\n",
    "\n",
    "## Análisis de los principales factores que influyen en las competiciones de Agility."
   ]
  },
  {
   "cell_type": "markdown",
   "metadata": {},
   "source": [
    "Uno empieza a realizar este deporte, como hobby, con su perro de compñia y al día siguiente te ves compitiendo con un Border Collie. Esta es la realidad de muchos competidores. Les gusta el deporte, pero su perro no es un superatleta. En tendencia general, si estas discupesto a añadir un miembro mas a tu família y quieres seguir llevando este deporte a nivel competitivo, es que acabes cogiendo un perro de dicha raza. Pero, ¿Porque? \n",
    "\n",
    "Con el estudio de todas las competiciones de Agility de los años 2022 y 2023, realizadas por la Real Sociedad Canina de España, busco confirmar algunas de las sensaciones que abundan entre los deportistas humanos:\n",
    "\n",
    "Factores internos:\n",
    "\n",
    "- ¿Porqué hay tantos perros de raza Border Collie? ¿Tienen más probabilidad de ganar que otras razas?\n",
    "- El sexo de estos animale no influye en los resultados de las competiciones.\n",
    "- Los perros con medidas mas cercanas al corte de categorías pueden tener mas dificultades para ganar.\n",
    "\n",
    "Factores externos:\n",
    "\n",
    "- El suelo de la pista influye directamente en el número de eliminados."
   ]
  },
  {
   "cell_type": "markdown",
   "metadata": {},
   "source": [
    "### DATA\n",
    "---"
   ]
  },
  {
   "cell_type": "markdown",
   "metadata": {},
   "source": [
    "Estoy usando un dataset extraído mediante webscrapping de **[FlowAgility](https://flowagility.com)**. El dataset contiene los siguientes datos:"
   ]
  },
  {
   "cell_type": "markdown",
   "metadata": {},
   "source": [
    "| Columna | Descripción| Tipo variable|\n",
    "|---|---|---|\n",
    "|Index_data| Número relacionado con el evento de la competición(generado en el primero dataset)| -|\n",
    "|Fecha| Día de la competición, descartada para el estudio | -|\n",
    "|License| Identificador individual del Binomio| -|\n",
    "|Breed| Razas de los perros| Categórica|\n",
    "|Gender| Hembra o Macho| Categórica|\n",
    "|Hight_cm| Altura de la cruz| Numérica|\n",
    "|Classification|Ganadores de la competición:podio 1r, 2o, 3o| Numérica|\n",
    "|Speed m/s| Velocidad del perro| Numérica|\n",
    "|Time (s)| Tiempo en pista| Numérica|\n",
    "|Faults| nº de Faltas realizadas en pista| Numérica|\n",
    "|Refusals| nº de Rehuses realizados en pista| Numérica|\n",
    "|Competition| Nombre de la competición, relacionado con Index_data| -|\n",
    "|Location| Lugar de la competicion| -|\n",
    "|Roof| Tipo de techo de la competición| Categórica|\n",
    "|Floor| Tipo de suelo| Categórica|\n",
    "|Eliminados| Qualification: EXC_0(pista a cero),ELIM(eliminado),EXC,V_GOOD,GOOD| Categórica|\n",
    "|Fecha_Competición| Intento de salvar la fecha, descartada para el estudio| -|\n",
    "|Pista| Tipo de pista| Categórica|\n",
    "|Categoria| relacionado con la altura del perro: XS, S, M, I, L| Categórica|\n",
    "\n"
   ]
  },
  {
   "cell_type": "markdown",
   "metadata": {},
   "source": [
    "### LIMPIEZA\n",
    "---"
   ]
  },
  {
   "cell_type": "markdown",
   "metadata": {},
   "source": [
    "En los siguientes notebooks está hecha la ardua tarea de ordenar, limpiar y juntar toda la información para obtener el anterior dataset:\n",
    "\n"
   ]
  }
 ],
 "metadata": {
  "kernelspec": {
   "display_name": "Python 3",
   "language": "python",
   "name": "python3"
  },
  "language_info": {
   "codemirror_mode": {
    "name": "ipython",
    "version": 3
   },
   "file_extension": ".py",
   "mimetype": "text/x-python",
   "name": "python",
   "nbconvert_exporter": "python",
   "pygments_lexer": "ipython3",
   "version": "3.12.2"
  }
 },
 "nbformat": 4,
 "nbformat_minor": 2
}
